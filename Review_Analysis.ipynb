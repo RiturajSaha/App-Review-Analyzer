{
  "nbformat": 4,
  "nbformat_minor": 0,
  "metadata": {
    "colab": {
      "name": "Review_Analysis.ipynb",
      "provenance": [],
      "collapsed_sections": [],
      "mount_file_id": "11zCCxHJR5yifpdpZDhwwYmNGeOH0xUaz",
      "authorship_tag": "ABX9TyMLZDMJKJ6yjmUHr+vs0i8V",
      "include_colab_link": true
    },
    "kernelspec": {
      "name": "python3",
      "display_name": "Python 3"
    },
    "language_info": {
      "name": "python"
    }
  },
  "cells": [
    {
      "cell_type": "markdown",
      "metadata": {
        "id": "view-in-github",
        "colab_type": "text"
      },
      "source": [
        "<a href=\"https://colab.research.google.com/github/RiturajSaha/App-Review-Analyzer/blob/main/Review_Analysis.ipynb\" target=\"_parent\"><img src=\"https://colab.research.google.com/assets/colab-badge.svg\" alt=\"Open In Colab\"/></a>"
      ]
    },
    {
      "cell_type": "code",
      "source": [
        "cd '/content/drive/MyDrive/Colab Notebooks/Review Analysis'"
      ],
      "metadata": {
        "colab": {
          "base_uri": "https://localhost:8080/"
        },
        "id": "EQpbB0qhjUAp",
        "outputId": "b6b61ff2-62c8-4759-87c1-f922a98717e3"
      },
      "execution_count": null,
      "outputs": [
        {
          "output_type": "stream",
          "name": "stdout",
          "text": [
            "/content/drive/MyDrive/Colab Notebooks/Review Analysis\n"
          ]
        }
      ]
    },
    {
      "cell_type": "markdown",
      "source": [
        "Importing the Libraries"
      ],
      "metadata": {
        "id": "ZlVAv4gmpIh5"
      }
    },
    {
      "cell_type": "code",
      "source": [
        "!pip install google-play-scraper\n",
        "from google_play_scraper import app, reviews, Sort\n",
        "import matplotlib.pyplot as plt\n",
        "import numpy as np\n",
        "import pandas as pd\n",
        "import re\n",
        "import pickle\n",
        "import nltk\n",
        "nltk.download('stopwords')"
      ],
      "metadata": {
        "id": "OSTnC0Q0Lbd3",
        "colab": {
          "base_uri": "https://localhost:8080/"
        },
        "outputId": "26cd3904-98cc-4eb6-d1a0-7527c43e7f54"
      },
      "execution_count": null,
      "outputs": [
        {
          "output_type": "stream",
          "name": "stdout",
          "text": [
            "Requirement already satisfied: google-play-scraper in /usr/local/lib/python3.7/dist-packages (1.0.3)\n",
            "[nltk_data] Downloading package stopwords to /root/nltk_data...\n",
            "[nltk_data]   Package stopwords is already up-to-date!\n"
          ]
        },
        {
          "output_type": "execute_result",
          "data": {
            "text/plain": [
              "True"
            ]
          },
          "metadata": {},
          "execution_count": 77
        }
      ]
    },
    {
      "cell_type": "markdown",
      "source": [
        "Defining required Functions"
      ],
      "metadata": {
        "id": "izFkxLz1pKfh"
      }
    },
    {
      "cell_type": "code",
      "source": [
        "def getDetails(url):\n",
        "  app_id=url.split('?')[1].split('&')[0][3:]\n",
        "  app_attr=app(app_id)\n",
        "  print('NAME:',app_attr['title'],\n",
        "      '\\nAPP ID:',app_id,\n",
        "      '\\nRATING:',app_attr['score'],\n",
        "      '\\nTOTAL RATINGS:',app_attr['ratings'],\n",
        "      '\\nTOTAL REVIEWS:',app_attr['reviews'],\n",
        "      '\\nREVIEWS ANALYZED:',r)\n",
        "\n",
        "  \n",
        "def getReviews(url,n=10):\n",
        "  global r\n",
        "  r=n\n",
        "  app_id=url.split('?')[1].split('&')[0][3:]\n",
        "  app_reviews = reviews(app_id, country='us',\n",
        "                        sort=Sort.MOST_RELEVANT,count=n)\n",
        "  app_attr=app(app_id)\n",
        "  df = pd.DataFrame(app_reviews[0]).iloc[:,3:5]\n",
        "  df.rename(columns = {'content':'REVIEW', \n",
        "                       'score':'RATING'}, inplace = True)\n",
        "  display(df)\n",
        "  return(df)\n",
        "\n",
        "\n",
        "def cleanDf(df,col):\n",
        "  reviews=[]\n",
        "  for row in df[col]:\n",
        "     row=re.sub('[^a-z]', ' ', row.lower())\n",
        "     stopWords = nltk.corpus.stopwords.words('english')\n",
        "     stopWords.remove('not')\n",
        "     row=row.split()\n",
        "     row = [nltk.stem.porter.PorterStemmer().stem(word) for word in row if not word in set(stopWords)]\n",
        "     row = ' '.join(row)\n",
        "     reviews.append(row)\n",
        "  df[col]=reviews\n",
        "  return df\n",
        "  \n",
        "\n",
        "def bagOfWords(x):\n",
        "  from sklearn.feature_extraction.text import CountVectorizer\n",
        "  cv = CountVectorizer(max_features=13500)\n",
        "  x = cv.fit_transform(x).toarray()\n",
        "  n=len(x[0])\n",
        "  l=[]\n",
        "  for i in x:\n",
        "      l.append(list(i)+[0 for i in range(13500-n)])\n",
        "  del x    \n",
        "  return(np.array(l))\n",
        "\n",
        "\n",
        "def getVisualizations(df):  \n",
        "  x =df['SENTIMENT'];y =df['RATING']\n",
        "  plt.yticks(np.arange(1,6,1))  \n",
        "  plt.xlabel(\"Sentiments\",size=15)\n",
        "  plt.ylabel(\"Ratings\",size=15)\n",
        "  plt.bar(x, y)\n",
        "  plt.grid(axis='y')\n",
        "  plt.show()\n",
        "  print('\\n')\n",
        "  data = df['SENTIMENT'].value_counts()\n",
        "  x = list(data);y = list(data.index)\n",
        "  circle=plt.Circle( (0,0), 0.7, color='white')\n",
        "  plt.gcf().gca().add_artist(circle)\n",
        "  plt.pie(x,autopct='%1.0f%%')\n",
        "  plt.title(\"Sentiment Analysis\",size=15,loc='left')\n",
        "  plt.legend(labels=y,bbox_to_anchor=(1, 0.8))\n",
        "  plt.show()\n",
        "  print('\\n')\n",
        "  data = df['RATING'].value_counts()\n",
        "  x = list(data);y = list(data.index)\n",
        "  plt.pie(x,autopct='%1.0f%%')\n",
        "  plt.title(\"Rating Analysis\",size=15,loc='left')\n",
        "  plt.legend(labels=y,bbox_to_anchor=(1, .8))\n",
        "  plt.show()\n",
        "\n",
        "\n",
        "def getInsights(df):\n",
        "  c32=df.loc[(df['RATING'] >=3) & (df['SENTIMENT'] == 2)].shape[0]\n",
        "  c31=df.loc[(df['RATING'] >=3) & (df['SENTIMENT'] == 1)].shape[0]\n",
        "  c30=df.loc[(df['RATING'] >=3) & (df['SENTIMENT'] == 0)].shape[0]\n",
        "  t=int(df.shape[0])\n",
        "\n",
        "  print(c32*100//t,'% of the Positive reviews have ratings greater than 2')\n",
        "  print(c31*100//t,'% of the Neutral reviews have ratings greater than 2')\n",
        "  print(c30*100//t,'% of the Negative reviews have ratings greater than 2')\n"
      ],
      "metadata": {
        "id": "KP568fMVUQDm"
      },
      "execution_count": null,
      "outputs": []
    },
    {
      "cell_type": "markdown",
      "source": [
        "Extracting the Dataset then Cleaning and Processing the Dataframe"
      ],
      "metadata": {
        "id": "7BB2hle6pN7A"
      }
    },
    {
      "cell_type": "code",
      "source": [
        "# twitter\n",
        "url='https://play.google.com/store/apps/details?id=com.twitter.android&hl=en_IN&gl=US'\n",
        "df=getReviews(url,25)\n",
        "df2=df.copy(deep=True)\n",
        "df=cleanDf(df,'REVIEW')"
      ],
      "metadata": {
        "colab": {
          "base_uri": "https://localhost:8080/",
          "height": 833
        },
        "id": "dARnPi8BSeXQ",
        "outputId": "40af491a-361a-4fa1-81c3-812e01a09236"
      },
      "execution_count": null,
      "outputs": [
        {
          "output_type": "display_data",
          "data": {
            "text/html": [
              "\n",
              "  <div id=\"df-ceec52e1-0816-4e45-b95c-f08ccdebf7a3\">\n",
              "    <div class=\"colab-df-container\">\n",
              "      <div>\n",
              "<style scoped>\n",
              "    .dataframe tbody tr th:only-of-type {\n",
              "        vertical-align: middle;\n",
              "    }\n",
              "\n",
              "    .dataframe tbody tr th {\n",
              "        vertical-align: top;\n",
              "    }\n",
              "\n",
              "    .dataframe thead th {\n",
              "        text-align: right;\n",
              "    }\n",
              "</style>\n",
              "<table border=\"1\" class=\"dataframe\">\n",
              "  <thead>\n",
              "    <tr style=\"text-align: right;\">\n",
              "      <th></th>\n",
              "      <th>REVIEW</th>\n",
              "      <th>RATING</th>\n",
              "    </tr>\n",
              "  </thead>\n",
              "  <tbody>\n",
              "    <tr>\n",
              "      <th>0</th>\n",
              "      <td>honestly this app just keeps getting worse, an...</td>\n",
              "      <td>2</td>\n",
              "    </tr>\n",
              "    <tr>\n",
              "      <th>1</th>\n",
              "      <td>I've been having problems with getting my main...</td>\n",
              "      <td>3</td>\n",
              "    </tr>\n",
              "    <tr>\n",
              "      <th>2</th>\n",
              "      <td>I enjoy using Twitter, but this last month it ...</td>\n",
              "      <td>3</td>\n",
              "    </tr>\n",
              "    <tr>\n",
              "      <th>3</th>\n",
              "      <td>Meeting those that keep your head up high, eve...</td>\n",
              "      <td>5</td>\n",
              "    </tr>\n",
              "    <tr>\n",
              "      <th>4</th>\n",
              "      <td>They seem determined to make this unusable, no...</td>\n",
              "      <td>1</td>\n",
              "    </tr>\n",
              "    <tr>\n",
              "      <th>5</th>\n",
              "      <td>Nearly unusable if you are trying to catch up ...</td>\n",
              "      <td>1</td>\n",
              "    </tr>\n",
              "    <tr>\n",
              "      <th>6</th>\n",
              "      <td>Twitter Spaces crashes from time to time, I'm ...</td>\n",
              "      <td>3</td>\n",
              "    </tr>\n",
              "    <tr>\n",
              "      <th>7</th>\n",
              "      <td>I have two problems and both are linked togeth...</td>\n",
              "      <td>3</td>\n",
              "    </tr>\n",
              "    <tr>\n",
              "      <th>8</th>\n",
              "      <td>I cannot post anything right now.... what is g...</td>\n",
              "      <td>2</td>\n",
              "    </tr>\n",
              "    <tr>\n",
              "      <th>9</th>\n",
              "      <td>If not for the random freezes it would be a 5....</td>\n",
              "      <td>4</td>\n",
              "    </tr>\n",
              "    <tr>\n",
              "      <th>10</th>\n",
              "      <td>Sick and tired of the damned app constantly re...</td>\n",
              "      <td>1</td>\n",
              "    </tr>\n",
              "    <tr>\n",
              "      <th>11</th>\n",
              "      <td>Good app but there's a few things going wrong ...</td>\n",
              "      <td>2</td>\n",
              "    </tr>\n",
              "    <tr>\n",
              "      <th>12</th>\n",
              "      <td>There's a recent issue with navigating through...</td>\n",
              "      <td>3</td>\n",
              "    </tr>\n",
              "    <tr>\n",
              "      <th>13</th>\n",
              "      <td>Like many other people, since the last update ...</td>\n",
              "      <td>1</td>\n",
              "    </tr>\n",
              "    <tr>\n",
              "      <th>14</th>\n",
              "      <td>As everyone else has recently stated, the scre...</td>\n",
              "      <td>1</td>\n",
              "    </tr>\n",
              "    <tr>\n",
              "      <th>15</th>\n",
              "      <td>This is the official Twitter app and it has so...</td>\n",
              "      <td>1</td>\n",
              "    </tr>\n",
              "    <tr>\n",
              "      <th>16</th>\n",
              "      <td>Glitches and Crashes Spaces that ended hours a...</td>\n",
              "      <td>2</td>\n",
              "    </tr>\n",
              "    <tr>\n",
              "      <th>17</th>\n",
              "      <td>After the recent update, whenever I jump in a ...</td>\n",
              "      <td>2</td>\n",
              "    </tr>\n",
              "    <tr>\n",
              "      <th>18</th>\n",
              "      <td>I SWEAR!! 😤.... if this app does not stop its ...</td>\n",
              "      <td>3</td>\n",
              "    </tr>\n",
              "    <tr>\n",
              "      <th>19</th>\n",
              "      <td>They fixed the bug where it was scrolling to t...</td>\n",
              "      <td>3</td>\n",
              "    </tr>\n",
              "    <tr>\n",
              "      <th>20</th>\n",
              "      <td>The newest update is horrible. The constant au...</td>\n",
              "      <td>1</td>\n",
              "    </tr>\n",
              "    <tr>\n",
              "      <th>21</th>\n",
              "      <td>It's a good app but I find it a little bothers...</td>\n",
              "      <td>3</td>\n",
              "    </tr>\n",
              "    <tr>\n",
              "      <th>22</th>\n",
              "      <td>The latest update has one problem that has bee...</td>\n",
              "      <td>1</td>\n",
              "    </tr>\n",
              "    <tr>\n",
              "      <th>23</th>\n",
              "      <td>Love Twitter but there's a problem with my acc...</td>\n",
              "      <td>2</td>\n",
              "    </tr>\n",
              "    <tr>\n",
              "      <th>24</th>\n",
              "      <td>Lately the app refreshes to the top of a threa...</td>\n",
              "      <td>1</td>\n",
              "    </tr>\n",
              "  </tbody>\n",
              "</table>\n",
              "</div>\n",
              "      <button class=\"colab-df-convert\" onclick=\"convertToInteractive('df-ceec52e1-0816-4e45-b95c-f08ccdebf7a3')\"\n",
              "              title=\"Convert this dataframe to an interactive table.\"\n",
              "              style=\"display:none;\">\n",
              "        \n",
              "  <svg xmlns=\"http://www.w3.org/2000/svg\" height=\"24px\"viewBox=\"0 0 24 24\"\n",
              "       width=\"24px\">\n",
              "    <path d=\"M0 0h24v24H0V0z\" fill=\"none\"/>\n",
              "    <path d=\"M18.56 5.44l.94 2.06.94-2.06 2.06-.94-2.06-.94-.94-2.06-.94 2.06-2.06.94zm-11 1L8.5 8.5l.94-2.06 2.06-.94-2.06-.94L8.5 2.5l-.94 2.06-2.06.94zm10 10l.94 2.06.94-2.06 2.06-.94-2.06-.94-.94-2.06-.94 2.06-2.06.94z\"/><path d=\"M17.41 7.96l-1.37-1.37c-.4-.4-.92-.59-1.43-.59-.52 0-1.04.2-1.43.59L10.3 9.45l-7.72 7.72c-.78.78-.78 2.05 0 2.83L4 21.41c.39.39.9.59 1.41.59.51 0 1.02-.2 1.41-.59l7.78-7.78 2.81-2.81c.8-.78.8-2.07 0-2.86zM5.41 20L4 18.59l7.72-7.72 1.47 1.35L5.41 20z\"/>\n",
              "  </svg>\n",
              "      </button>\n",
              "      \n",
              "  <style>\n",
              "    .colab-df-container {\n",
              "      display:flex;\n",
              "      flex-wrap:wrap;\n",
              "      gap: 12px;\n",
              "    }\n",
              "\n",
              "    .colab-df-convert {\n",
              "      background-color: #E8F0FE;\n",
              "      border: none;\n",
              "      border-radius: 50%;\n",
              "      cursor: pointer;\n",
              "      display: none;\n",
              "      fill: #1967D2;\n",
              "      height: 32px;\n",
              "      padding: 0 0 0 0;\n",
              "      width: 32px;\n",
              "    }\n",
              "\n",
              "    .colab-df-convert:hover {\n",
              "      background-color: #E2EBFA;\n",
              "      box-shadow: 0px 1px 2px rgba(60, 64, 67, 0.3), 0px 1px 3px 1px rgba(60, 64, 67, 0.15);\n",
              "      fill: #174EA6;\n",
              "    }\n",
              "\n",
              "    [theme=dark] .colab-df-convert {\n",
              "      background-color: #3B4455;\n",
              "      fill: #D2E3FC;\n",
              "    }\n",
              "\n",
              "    [theme=dark] .colab-df-convert:hover {\n",
              "      background-color: #434B5C;\n",
              "      box-shadow: 0px 1px 3px 1px rgba(0, 0, 0, 0.15);\n",
              "      filter: drop-shadow(0px 1px 2px rgba(0, 0, 0, 0.3));\n",
              "      fill: #FFFFFF;\n",
              "    }\n",
              "  </style>\n",
              "\n",
              "      <script>\n",
              "        const buttonEl =\n",
              "          document.querySelector('#df-ceec52e1-0816-4e45-b95c-f08ccdebf7a3 button.colab-df-convert');\n",
              "        buttonEl.style.display =\n",
              "          google.colab.kernel.accessAllowed ? 'block' : 'none';\n",
              "\n",
              "        async function convertToInteractive(key) {\n",
              "          const element = document.querySelector('#df-ceec52e1-0816-4e45-b95c-f08ccdebf7a3');\n",
              "          const dataTable =\n",
              "            await google.colab.kernel.invokeFunction('convertToInteractive',\n",
              "                                                     [key], {});\n",
              "          if (!dataTable) return;\n",
              "\n",
              "          const docLinkHtml = 'Like what you see? Visit the ' +\n",
              "            '<a target=\"_blank\" href=https://colab.research.google.com/notebooks/data_table.ipynb>data table notebook</a>'\n",
              "            + ' to learn more about interactive tables.';\n",
              "          element.innerHTML = '';\n",
              "          dataTable['output_type'] = 'display_data';\n",
              "          await google.colab.output.renderOutput(dataTable, element);\n",
              "          const docLink = document.createElement('div');\n",
              "          docLink.innerHTML = docLinkHtml;\n",
              "          element.appendChild(docLink);\n",
              "        }\n",
              "      </script>\n",
              "    </div>\n",
              "  </div>\n",
              "  "
            ],
            "text/plain": [
              "                                               REVIEW  RATING\n",
              "0   honestly this app just keeps getting worse, an...       2\n",
              "1   I've been having problems with getting my main...       3\n",
              "2   I enjoy using Twitter, but this last month it ...       3\n",
              "3   Meeting those that keep your head up high, eve...       5\n",
              "4   They seem determined to make this unusable, no...       1\n",
              "5   Nearly unusable if you are trying to catch up ...       1\n",
              "6   Twitter Spaces crashes from time to time, I'm ...       3\n",
              "7   I have two problems and both are linked togeth...       3\n",
              "8   I cannot post anything right now.... what is g...       2\n",
              "9   If not for the random freezes it would be a 5....       4\n",
              "10  Sick and tired of the damned app constantly re...       1\n",
              "11  Good app but there's a few things going wrong ...       2\n",
              "12  There's a recent issue with navigating through...       3\n",
              "13  Like many other people, since the last update ...       1\n",
              "14  As everyone else has recently stated, the scre...       1\n",
              "15  This is the official Twitter app and it has so...       1\n",
              "16  Glitches and Crashes Spaces that ended hours a...       2\n",
              "17  After the recent update, whenever I jump in a ...       2\n",
              "18  I SWEAR!! 😤.... if this app does not stop its ...       3\n",
              "19  They fixed the bug where it was scrolling to t...       3\n",
              "20  The newest update is horrible. The constant au...       1\n",
              "21  It's a good app but I find it a little bothers...       3\n",
              "22  The latest update has one problem that has bee...       1\n",
              "23  Love Twitter but there's a problem with my acc...       2\n",
              "24  Lately the app refreshes to the top of a threa...       1"
            ]
          },
          "metadata": {}
        }
      ]
    },
    {
      "cell_type": "markdown",
      "source": [
        "Loading the model"
      ],
      "metadata": {
        "id": "Xs-jmzh1pTKP"
      }
    },
    {
      "cell_type": "code",
      "source": [
        "model = pickle.load(open('model.pkl','rb'))"
      ],
      "metadata": {
        "id": "P0oMo7xti7J3"
      },
      "execution_count": null,
      "outputs": []
    },
    {
      "cell_type": "markdown",
      "source": [
        "Applying Bag Of Words model to the REVIEW column"
      ],
      "metadata": {
        "id": "llPz0IidplEm"
      }
    },
    {
      "cell_type": "code",
      "source": [
        "reviews=bagOfWords(df['REVIEW'])\n",
        "sentiments=model.predict(reviews)"
      ],
      "metadata": {
        "id": "La84jeDjOeye"
      },
      "execution_count": null,
      "outputs": []
    },
    {
      "cell_type": "markdown",
      "source": [
        "Cleaning the processed Dataframe"
      ],
      "metadata": {
        "id": "GNmWLASKpmvB"
      }
    },
    {
      "cell_type": "code",
      "source": [
        "df['SENTIMENT']=df2['SENTIMENT']=sentiments\n",
        "df2['SENTIMENT'].replace({0: 'Negative', \n",
        "                                  1: 'Neutral', \n",
        "                                  2: 'Positive'}, inplace=True)"
      ],
      "metadata": {
        "id": "AiIGjNPFj9MQ"
      },
      "execution_count": null,
      "outputs": []
    },
    {
      "cell_type": "markdown",
      "source": [
        "Disolaying the overall Output generated"
      ],
      "metadata": {
        "id": "HPNW6RQVptIv"
      }
    },
    {
      "cell_type": "code",
      "source": [
        "getDetails(url)\n",
        "display(df2)"
      ],
      "metadata": {
        "colab": {
          "base_uri": "https://localhost:8080/",
          "height": 938
        },
        "id": "y-WQ91Z28YUY",
        "outputId": "00e1b53a-96a2-4271-ec16-6a94113685ad"
      },
      "execution_count": null,
      "outputs": [
        {
          "output_type": "stream",
          "name": "stdout",
          "text": [
            "NAME: Twitter \n",
            "APP ID: com.twitter.android \n",
            "RATING: 3.6492321 \n",
            "TOTAL RATINGS: 19371619 \n",
            "TOTAL REVIEWS: 665153 \n",
            "REVIEWS ANALYZED: 25\n"
          ]
        },
        {
          "output_type": "display_data",
          "data": {
            "text/html": [
              "\n",
              "  <div id=\"df-1b3cf973-afa7-4f4c-b6d1-d07f7531b22b\">\n",
              "    <div class=\"colab-df-container\">\n",
              "      <div>\n",
              "<style scoped>\n",
              "    .dataframe tbody tr th:only-of-type {\n",
              "        vertical-align: middle;\n",
              "    }\n",
              "\n",
              "    .dataframe tbody tr th {\n",
              "        vertical-align: top;\n",
              "    }\n",
              "\n",
              "    .dataframe thead th {\n",
              "        text-align: right;\n",
              "    }\n",
              "</style>\n",
              "<table border=\"1\" class=\"dataframe\">\n",
              "  <thead>\n",
              "    <tr style=\"text-align: right;\">\n",
              "      <th></th>\n",
              "      <th>REVIEW</th>\n",
              "      <th>RATING</th>\n",
              "      <th>SENTIMENT</th>\n",
              "    </tr>\n",
              "  </thead>\n",
              "  <tbody>\n",
              "    <tr>\n",
              "      <th>0</th>\n",
              "      <td>honestly this app just keeps getting worse, an...</td>\n",
              "      <td>2</td>\n",
              "      <td>Negative</td>\n",
              "    </tr>\n",
              "    <tr>\n",
              "      <th>1</th>\n",
              "      <td>I've been having problems with getting my main...</td>\n",
              "      <td>3</td>\n",
              "      <td>Neutral</td>\n",
              "    </tr>\n",
              "    <tr>\n",
              "      <th>2</th>\n",
              "      <td>I enjoy using Twitter, but this last month it ...</td>\n",
              "      <td>3</td>\n",
              "      <td>Neutral</td>\n",
              "    </tr>\n",
              "    <tr>\n",
              "      <th>3</th>\n",
              "      <td>Meeting those that keep your head up high, eve...</td>\n",
              "      <td>5</td>\n",
              "      <td>Positive</td>\n",
              "    </tr>\n",
              "    <tr>\n",
              "      <th>4</th>\n",
              "      <td>They seem determined to make this unusable, no...</td>\n",
              "      <td>1</td>\n",
              "      <td>Neutral</td>\n",
              "    </tr>\n",
              "    <tr>\n",
              "      <th>5</th>\n",
              "      <td>Nearly unusable if you are trying to catch up ...</td>\n",
              "      <td>1</td>\n",
              "      <td>Neutral</td>\n",
              "    </tr>\n",
              "    <tr>\n",
              "      <th>6</th>\n",
              "      <td>Twitter Spaces crashes from time to time, I'm ...</td>\n",
              "      <td>3</td>\n",
              "      <td>Neutral</td>\n",
              "    </tr>\n",
              "    <tr>\n",
              "      <th>7</th>\n",
              "      <td>I have two problems and both are linked togeth...</td>\n",
              "      <td>3</td>\n",
              "      <td>Negative</td>\n",
              "    </tr>\n",
              "    <tr>\n",
              "      <th>8</th>\n",
              "      <td>I cannot post anything right now.... what is g...</td>\n",
              "      <td>2</td>\n",
              "      <td>Positive</td>\n",
              "    </tr>\n",
              "    <tr>\n",
              "      <th>9</th>\n",
              "      <td>If not for the random freezes it would be a 5....</td>\n",
              "      <td>4</td>\n",
              "      <td>Neutral</td>\n",
              "    </tr>\n",
              "    <tr>\n",
              "      <th>10</th>\n",
              "      <td>Sick and tired of the damned app constantly re...</td>\n",
              "      <td>1</td>\n",
              "      <td>Neutral</td>\n",
              "    </tr>\n",
              "    <tr>\n",
              "      <th>11</th>\n",
              "      <td>Good app but there's a few things going wrong ...</td>\n",
              "      <td>2</td>\n",
              "      <td>Negative</td>\n",
              "    </tr>\n",
              "    <tr>\n",
              "      <th>12</th>\n",
              "      <td>There's a recent issue with navigating through...</td>\n",
              "      <td>3</td>\n",
              "      <td>Negative</td>\n",
              "    </tr>\n",
              "    <tr>\n",
              "      <th>13</th>\n",
              "      <td>Like many other people, since the last update ...</td>\n",
              "      <td>1</td>\n",
              "      <td>Positive</td>\n",
              "    </tr>\n",
              "    <tr>\n",
              "      <th>14</th>\n",
              "      <td>As everyone else has recently stated, the scre...</td>\n",
              "      <td>1</td>\n",
              "      <td>Neutral</td>\n",
              "    </tr>\n",
              "    <tr>\n",
              "      <th>15</th>\n",
              "      <td>This is the official Twitter app and it has so...</td>\n",
              "      <td>1</td>\n",
              "      <td>Positive</td>\n",
              "    </tr>\n",
              "    <tr>\n",
              "      <th>16</th>\n",
              "      <td>Glitches and Crashes Spaces that ended hours a...</td>\n",
              "      <td>2</td>\n",
              "      <td>Neutral</td>\n",
              "    </tr>\n",
              "    <tr>\n",
              "      <th>17</th>\n",
              "      <td>After the recent update, whenever I jump in a ...</td>\n",
              "      <td>2</td>\n",
              "      <td>Neutral</td>\n",
              "    </tr>\n",
              "    <tr>\n",
              "      <th>18</th>\n",
              "      <td>I SWEAR!! 😤.... if this app does not stop its ...</td>\n",
              "      <td>3</td>\n",
              "      <td>Neutral</td>\n",
              "    </tr>\n",
              "    <tr>\n",
              "      <th>19</th>\n",
              "      <td>They fixed the bug where it was scrolling to t...</td>\n",
              "      <td>3</td>\n",
              "      <td>Neutral</td>\n",
              "    </tr>\n",
              "    <tr>\n",
              "      <th>20</th>\n",
              "      <td>The newest update is horrible. The constant au...</td>\n",
              "      <td>1</td>\n",
              "      <td>Neutral</td>\n",
              "    </tr>\n",
              "    <tr>\n",
              "      <th>21</th>\n",
              "      <td>It's a good app but I find it a little bothers...</td>\n",
              "      <td>3</td>\n",
              "      <td>Neutral</td>\n",
              "    </tr>\n",
              "    <tr>\n",
              "      <th>22</th>\n",
              "      <td>The latest update has one problem that has bee...</td>\n",
              "      <td>1</td>\n",
              "      <td>Neutral</td>\n",
              "    </tr>\n",
              "    <tr>\n",
              "      <th>23</th>\n",
              "      <td>Love Twitter but there's a problem with my acc...</td>\n",
              "      <td>2</td>\n",
              "      <td>Positive</td>\n",
              "    </tr>\n",
              "    <tr>\n",
              "      <th>24</th>\n",
              "      <td>Lately the app refreshes to the top of a threa...</td>\n",
              "      <td>1</td>\n",
              "      <td>Neutral</td>\n",
              "    </tr>\n",
              "  </tbody>\n",
              "</table>\n",
              "</div>\n",
              "      <button class=\"colab-df-convert\" onclick=\"convertToInteractive('df-1b3cf973-afa7-4f4c-b6d1-d07f7531b22b')\"\n",
              "              title=\"Convert this dataframe to an interactive table.\"\n",
              "              style=\"display:none;\">\n",
              "        \n",
              "  <svg xmlns=\"http://www.w3.org/2000/svg\" height=\"24px\"viewBox=\"0 0 24 24\"\n",
              "       width=\"24px\">\n",
              "    <path d=\"M0 0h24v24H0V0z\" fill=\"none\"/>\n",
              "    <path d=\"M18.56 5.44l.94 2.06.94-2.06 2.06-.94-2.06-.94-.94-2.06-.94 2.06-2.06.94zm-11 1L8.5 8.5l.94-2.06 2.06-.94-2.06-.94L8.5 2.5l-.94 2.06-2.06.94zm10 10l.94 2.06.94-2.06 2.06-.94-2.06-.94-.94-2.06-.94 2.06-2.06.94z\"/><path d=\"M17.41 7.96l-1.37-1.37c-.4-.4-.92-.59-1.43-.59-.52 0-1.04.2-1.43.59L10.3 9.45l-7.72 7.72c-.78.78-.78 2.05 0 2.83L4 21.41c.39.39.9.59 1.41.59.51 0 1.02-.2 1.41-.59l7.78-7.78 2.81-2.81c.8-.78.8-2.07 0-2.86zM5.41 20L4 18.59l7.72-7.72 1.47 1.35L5.41 20z\"/>\n",
              "  </svg>\n",
              "      </button>\n",
              "      \n",
              "  <style>\n",
              "    .colab-df-container {\n",
              "      display:flex;\n",
              "      flex-wrap:wrap;\n",
              "      gap: 12px;\n",
              "    }\n",
              "\n",
              "    .colab-df-convert {\n",
              "      background-color: #E8F0FE;\n",
              "      border: none;\n",
              "      border-radius: 50%;\n",
              "      cursor: pointer;\n",
              "      display: none;\n",
              "      fill: #1967D2;\n",
              "      height: 32px;\n",
              "      padding: 0 0 0 0;\n",
              "      width: 32px;\n",
              "    }\n",
              "\n",
              "    .colab-df-convert:hover {\n",
              "      background-color: #E2EBFA;\n",
              "      box-shadow: 0px 1px 2px rgba(60, 64, 67, 0.3), 0px 1px 3px 1px rgba(60, 64, 67, 0.15);\n",
              "      fill: #174EA6;\n",
              "    }\n",
              "\n",
              "    [theme=dark] .colab-df-convert {\n",
              "      background-color: #3B4455;\n",
              "      fill: #D2E3FC;\n",
              "    }\n",
              "\n",
              "    [theme=dark] .colab-df-convert:hover {\n",
              "      background-color: #434B5C;\n",
              "      box-shadow: 0px 1px 3px 1px rgba(0, 0, 0, 0.15);\n",
              "      filter: drop-shadow(0px 1px 2px rgba(0, 0, 0, 0.3));\n",
              "      fill: #FFFFFF;\n",
              "    }\n",
              "  </style>\n",
              "\n",
              "      <script>\n",
              "        const buttonEl =\n",
              "          document.querySelector('#df-1b3cf973-afa7-4f4c-b6d1-d07f7531b22b button.colab-df-convert');\n",
              "        buttonEl.style.display =\n",
              "          google.colab.kernel.accessAllowed ? 'block' : 'none';\n",
              "\n",
              "        async function convertToInteractive(key) {\n",
              "          const element = document.querySelector('#df-1b3cf973-afa7-4f4c-b6d1-d07f7531b22b');\n",
              "          const dataTable =\n",
              "            await google.colab.kernel.invokeFunction('convertToInteractive',\n",
              "                                                     [key], {});\n",
              "          if (!dataTable) return;\n",
              "\n",
              "          const docLinkHtml = 'Like what you see? Visit the ' +\n",
              "            '<a target=\"_blank\" href=https://colab.research.google.com/notebooks/data_table.ipynb>data table notebook</a>'\n",
              "            + ' to learn more about interactive tables.';\n",
              "          element.innerHTML = '';\n",
              "          dataTable['output_type'] = 'display_data';\n",
              "          await google.colab.output.renderOutput(dataTable, element);\n",
              "          const docLink = document.createElement('div');\n",
              "          docLink.innerHTML = docLinkHtml;\n",
              "          element.appendChild(docLink);\n",
              "        }\n",
              "      </script>\n",
              "    </div>\n",
              "  </div>\n",
              "  "
            ],
            "text/plain": [
              "                                               REVIEW  RATING SENTIMENT\n",
              "0   honestly this app just keeps getting worse, an...       2  Negative\n",
              "1   I've been having problems with getting my main...       3   Neutral\n",
              "2   I enjoy using Twitter, but this last month it ...       3   Neutral\n",
              "3   Meeting those that keep your head up high, eve...       5  Positive\n",
              "4   They seem determined to make this unusable, no...       1   Neutral\n",
              "5   Nearly unusable if you are trying to catch up ...       1   Neutral\n",
              "6   Twitter Spaces crashes from time to time, I'm ...       3   Neutral\n",
              "7   I have two problems and both are linked togeth...       3  Negative\n",
              "8   I cannot post anything right now.... what is g...       2  Positive\n",
              "9   If not for the random freezes it would be a 5....       4   Neutral\n",
              "10  Sick and tired of the damned app constantly re...       1   Neutral\n",
              "11  Good app but there's a few things going wrong ...       2  Negative\n",
              "12  There's a recent issue with navigating through...       3  Negative\n",
              "13  Like many other people, since the last update ...       1  Positive\n",
              "14  As everyone else has recently stated, the scre...       1   Neutral\n",
              "15  This is the official Twitter app and it has so...       1  Positive\n",
              "16  Glitches and Crashes Spaces that ended hours a...       2   Neutral\n",
              "17  After the recent update, whenever I jump in a ...       2   Neutral\n",
              "18  I SWEAR!! 😤.... if this app does not stop its ...       3   Neutral\n",
              "19  They fixed the bug where it was scrolling to t...       3   Neutral\n",
              "20  The newest update is horrible. The constant au...       1   Neutral\n",
              "21  It's a good app but I find it a little bothers...       3   Neutral\n",
              "22  The latest update has one problem that has bee...       1   Neutral\n",
              "23  Love Twitter but there's a problem with my acc...       2  Positive\n",
              "24  Lately the app refreshes to the top of a threa...       1   Neutral"
            ]
          },
          "metadata": {}
        }
      ]
    },
    {
      "cell_type": "markdown",
      "source": [
        "Depicting Visualizations"
      ],
      "metadata": {
        "id": "sMuk9-jap1zD"
      }
    },
    {
      "cell_type": "code",
      "source": [
        "getVisualizations(df2)"
      ],
      "metadata": {
        "colab": {
          "base_uri": "https://localhost:8080/",
          "height": 851
        },
        "id": "gt2n5642xSes",
        "outputId": "7d7a5608-28e1-45fb-a9ae-4c66812142c9"
      },
      "execution_count": null,
      "outputs": [
        {
          "output_type": "display_data",
          "data": {
            "image/png": "[encoded data removed]",
            "text/plain": [
              "<Figure size 432x288 with 1 Axes>"
            ]
          },
          "metadata": {
            "needs_background": "light"
          }
        },
        {
          "output_type": "stream",
          "name": "stdout",
          "text": [
            "\n",
            "\n"
          ]
        },
        {
          "output_type": "display_data",
          "data": {
            "image/png": "[encoded data removed]",
            "text/plain": [
              "<Figure size 432x288 with 1 Axes>"
            ]
          },
          "metadata": {}
        },
        {
          "output_type": "stream",
          "name": "stdout",
          "text": [
            "\n",
            "\n"
          ]
        },
        {
          "output_type": "display_data",
          "data": {
            "image/png": "[encoded data removed]",
            "text/plain": [
              "<Figure size 432x288 with 1 Axes>"
            ]
          },
          "metadata": {}
        }
      ]
    },
    {
      "cell_type": "markdown",
      "source": [
        "Generating Insights"
      ],
      "metadata": {
        "id": "QBARGOTCp0ty"
      }
    },
    {
      "cell_type": "code",
      "source": [
        "getInsights(df)"
      ],
      "metadata": {
        "colab": {
          "base_uri": "https://localhost:8080/"
        },
        "id": "H1zu109Fp8Xv",
        "outputId": "10f2a909-d2c4-47d3-8d9f-a0d0ca0fc544"
      },
      "execution_count": null,
      "outputs": [
        {
          "output_type": "stream",
          "name": "stdout",
          "text": [
            "4 % of the Positive reviews have ratings greater than 2\n",
            "28 % of the Neutral reviews have ratings greater than 2\n",
            "8 % of the Negative reviews have ratings greater than 2\n"
          ]
        }
      ]
    }
  ]
}